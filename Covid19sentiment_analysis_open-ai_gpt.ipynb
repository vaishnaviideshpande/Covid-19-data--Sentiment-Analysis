{
  "nbformat": 4,
  "nbformat_minor": 0,
  "metadata": {
    "colab": {
      "name": "Covid19sentiment_analysis",
      "provenance": [],
      "collapsed_sections": []
    },
    "kernelspec": {
      "name": "python3",
      "display_name": "Python 3"
    },
    "widgets": {
      "application/vnd.jupyter.widget-state+json": {
        "280625eb51d94f08a1b55464889b4371": {
          "model_module": "@jupyter-widgets/controls",
          "model_name": "HBoxModel",
          "state": {
            "_view_name": "HBoxView",
            "_dom_classes": [],
            "_model_name": "HBoxModel",
            "_view_module": "@jupyter-widgets/controls",
            "_model_module_version": "1.5.0",
            "_view_count": null,
            "_view_module_version": "1.5.0",
            "box_style": "",
            "layout": "IPY_MODEL_c2548ac689fb400a9b84aeec6430a4f6",
            "_model_module": "@jupyter-widgets/controls",
            "children": [
              "IPY_MODEL_057e153cd81b47d790d7196c447d5852",
              "IPY_MODEL_8cd36e4b659e44df86db8691895571e9"
            ]
          }
        },
        "c2548ac689fb400a9b84aeec6430a4f6": {
          "model_module": "@jupyter-widgets/base",
          "model_name": "LayoutModel",
          "state": {
            "_view_name": "LayoutView",
            "grid_template_rows": null,
            "right": null,
            "justify_content": null,
            "_view_module": "@jupyter-widgets/base",
            "overflow": null,
            "_model_module_version": "1.2.0",
            "_view_count": null,
            "flex_flow": null,
            "width": null,
            "min_width": null,
            "border": null,
            "align_items": null,
            "bottom": null,
            "_model_module": "@jupyter-widgets/base",
            "top": null,
            "grid_column": null,
            "overflow_y": null,
            "overflow_x": null,
            "grid_auto_flow": null,
            "grid_area": null,
            "grid_template_columns": null,
            "flex": null,
            "_model_name": "LayoutModel",
            "justify_items": null,
            "grid_row": null,
            "max_height": null,
            "align_content": null,
            "visibility": null,
            "align_self": null,
            "height": null,
            "min_height": null,
            "padding": null,
            "grid_auto_rows": null,
            "grid_gap": null,
            "max_width": null,
            "order": null,
            "_view_module_version": "1.2.0",
            "grid_template_areas": null,
            "object_position": null,
            "object_fit": null,
            "grid_auto_columns": null,
            "margin": null,
            "display": null,
            "left": null
          }
        },
        "057e153cd81b47d790d7196c447d5852": {
          "model_module": "@jupyter-widgets/controls",
          "model_name": "FloatProgressModel",
          "state": {
            "_view_name": "ProgressView",
            "style": "IPY_MODEL_a02a2e6f23324ab28ee196752714113f",
            "_dom_classes": [],
            "description": "Epoch [1/4]: [220/242]  91%",
            "_model_name": "FloatProgressModel",
            "bar_style": "success",
            "max": 242,
            "_view_module": "@jupyter-widgets/controls",
            "_model_module_version": "1.5.0",
            "value": 220,
            "_view_count": null,
            "_view_module_version": "1.5.0",
            "orientation": "horizontal",
            "min": 0,
            "description_tooltip": null,
            "_model_module": "@jupyter-widgets/controls",
            "layout": "IPY_MODEL_b44a9afe1a634ba48bdeac0ce9ddf507"
          }
        },
        "8cd36e4b659e44df86db8691895571e9": {
          "model_module": "@jupyter-widgets/controls",
          "model_name": "HTMLModel",
          "state": {
            "_view_name": "HTMLView",
            "style": "IPY_MODEL_ec66aaee43ba4756a1cd7479e9c6cdaa",
            "_dom_classes": [],
            "description": "",
            "_model_name": "HTMLModel",
            "placeholder": "​",
            "_view_module": "@jupyter-widgets/controls",
            "_model_module_version": "1.5.0",
            "value": ", loss=0.418 [1:35:39&lt;00:00]",
            "_view_count": null,
            "_view_module_version": "1.5.0",
            "description_tooltip": null,
            "_model_module": "@jupyter-widgets/controls",
            "layout": "IPY_MODEL_b696cb9e248d43da865af21e1eab64df"
          }
        },
        "a02a2e6f23324ab28ee196752714113f": {
          "model_module": "@jupyter-widgets/controls",
          "model_name": "ProgressStyleModel",
          "state": {
            "_view_name": "StyleView",
            "_model_name": "ProgressStyleModel",
            "description_width": "initial",
            "_view_module": "@jupyter-widgets/base",
            "_model_module_version": "1.5.0",
            "_view_count": null,
            "_view_module_version": "1.2.0",
            "bar_color": null,
            "_model_module": "@jupyter-widgets/controls"
          }
        },
        "b44a9afe1a634ba48bdeac0ce9ddf507": {
          "model_module": "@jupyter-widgets/base",
          "model_name": "LayoutModel",
          "state": {
            "_view_name": "LayoutView",
            "grid_template_rows": null,
            "right": null,
            "justify_content": null,
            "_view_module": "@jupyter-widgets/base",
            "overflow": null,
            "_model_module_version": "1.2.0",
            "_view_count": null,
            "flex_flow": null,
            "width": null,
            "min_width": null,
            "border": null,
            "align_items": null,
            "bottom": null,
            "_model_module": "@jupyter-widgets/base",
            "top": null,
            "grid_column": null,
            "overflow_y": null,
            "overflow_x": null,
            "grid_auto_flow": null,
            "grid_area": null,
            "grid_template_columns": null,
            "flex": null,
            "_model_name": "LayoutModel",
            "justify_items": null,
            "grid_row": null,
            "max_height": null,
            "align_content": null,
            "visibility": null,
            "align_self": null,
            "height": null,
            "min_height": null,
            "padding": null,
            "grid_auto_rows": null,
            "grid_gap": null,
            "max_width": null,
            "order": null,
            "_view_module_version": "1.2.0",
            "grid_template_areas": null,
            "object_position": null,
            "object_fit": null,
            "grid_auto_columns": null,
            "margin": null,
            "display": null,
            "left": null
          }
        },
        "ec66aaee43ba4756a1cd7479e9c6cdaa": {
          "model_module": "@jupyter-widgets/controls",
          "model_name": "DescriptionStyleModel",
          "state": {
            "_view_name": "StyleView",
            "_model_name": "DescriptionStyleModel",
            "description_width": "",
            "_view_module": "@jupyter-widgets/base",
            "_model_module_version": "1.5.0",
            "_view_count": null,
            "_view_module_version": "1.2.0",
            "_model_module": "@jupyter-widgets/controls"
          }
        },
        "b696cb9e248d43da865af21e1eab64df": {
          "model_module": "@jupyter-widgets/base",
          "model_name": "LayoutModel",
          "state": {
            "_view_name": "LayoutView",
            "grid_template_rows": null,
            "right": null,
            "justify_content": null,
            "_view_module": "@jupyter-widgets/base",
            "overflow": null,
            "_model_module_version": "1.2.0",
            "_view_count": null,
            "flex_flow": null,
            "width": null,
            "min_width": null,
            "border": null,
            "align_items": null,
            "bottom": null,
            "_model_module": "@jupyter-widgets/base",
            "top": null,
            "grid_column": null,
            "overflow_y": null,
            "overflow_x": null,
            "grid_auto_flow": null,
            "grid_area": null,
            "grid_template_columns": null,
            "flex": null,
            "_model_name": "LayoutModel",
            "justify_items": null,
            "grid_row": null,
            "max_height": null,
            "align_content": null,
            "visibility": null,
            "align_self": null,
            "height": null,
            "min_height": null,
            "padding": null,
            "grid_auto_rows": null,
            "grid_gap": null,
            "max_width": null,
            "order": null,
            "_view_module_version": "1.2.0",
            "grid_template_areas": null,
            "object_position": null,
            "object_fit": null,
            "grid_auto_columns": null,
            "margin": null,
            "display": null,
            "left": null
          }
        },
        "8577fadbf5ee48bf8ec821617fb25d65": {
          "model_module": "@jupyter-widgets/controls",
          "model_name": "HBoxModel",
          "state": {
            "_view_name": "HBoxView",
            "_dom_classes": [],
            "_model_name": "HBoxModel",
            "_view_module": "@jupyter-widgets/controls",
            "_model_module_version": "1.5.0",
            "_view_count": null,
            "_view_module_version": "1.5.0",
            "box_style": "",
            "layout": "IPY_MODEL_9af3c89197cf45a0a5288f7006a8f626",
            "_model_module": "@jupyter-widgets/controls",
            "children": [
              "IPY_MODEL_fe0d8f829a8c42048a63cc6fb992b7e3",
              "IPY_MODEL_22acb8abfd574f718c37909e6114df4d"
            ]
          }
        },
        "9af3c89197cf45a0a5288f7006a8f626": {
          "model_module": "@jupyter-widgets/base",
          "model_name": "LayoutModel",
          "state": {
            "_view_name": "LayoutView",
            "grid_template_rows": null,
            "right": null,
            "justify_content": null,
            "_view_module": "@jupyter-widgets/base",
            "overflow": null,
            "_model_module_version": "1.2.0",
            "_view_count": null,
            "flex_flow": null,
            "width": null,
            "min_width": null,
            "border": null,
            "align_items": null,
            "bottom": null,
            "_model_module": "@jupyter-widgets/base",
            "top": null,
            "grid_column": null,
            "overflow_y": null,
            "overflow_x": null,
            "grid_auto_flow": null,
            "grid_area": null,
            "grid_template_columns": null,
            "flex": null,
            "_model_name": "LayoutModel",
            "justify_items": null,
            "grid_row": null,
            "max_height": null,
            "align_content": null,
            "visibility": null,
            "align_self": null,
            "height": null,
            "min_height": null,
            "padding": null,
            "grid_auto_rows": null,
            "grid_gap": null,
            "max_width": null,
            "order": null,
            "_view_module_version": "1.2.0",
            "grid_template_areas": null,
            "object_position": null,
            "object_fit": null,
            "grid_auto_columns": null,
            "margin": null,
            "display": null,
            "left": null
          }
        },
        "fe0d8f829a8c42048a63cc6fb992b7e3": {
          "model_module": "@jupyter-widgets/controls",
          "model_name": "FloatProgressModel",
          "state": {
            "_view_name": "ProgressView",
            "style": "IPY_MODEL_580a44bfb94d49e9b2c688a30ba27fc9",
            "_dom_classes": [],
            "description": "Epoch [2/4]: [242/242] 100%",
            "_model_name": "FloatProgressModel",
            "bar_style": "success",
            "max": 242,
            "_view_module": "@jupyter-widgets/controls",
            "_model_module_version": "1.5.0",
            "value": 242,
            "_view_count": null,
            "_view_module_version": "1.5.0",
            "orientation": "horizontal",
            "min": 0,
            "description_tooltip": null,
            "_model_module": "@jupyter-widgets/controls",
            "layout": "IPY_MODEL_97cede62fb4e4fb987ad6af9aa29f828"
          }
        },
        "22acb8abfd574f718c37909e6114df4d": {
          "model_module": "@jupyter-widgets/controls",
          "model_name": "HTMLModel",
          "state": {
            "_view_name": "HTMLView",
            "style": "IPY_MODEL_71baadd457b84ed0a6841f6009b36cad",
            "_dom_classes": [],
            "description": "",
            "_model_name": "HTMLModel",
            "placeholder": "​",
            "_view_module": "@jupyter-widgets/controls",
            "_model_module_version": "1.5.0",
            "value": ", loss=0.24 [1:35:27&lt;00:00]",
            "_view_count": null,
            "_view_module_version": "1.5.0",
            "description_tooltip": null,
            "_model_module": "@jupyter-widgets/controls",
            "layout": "IPY_MODEL_d4d9bc223f214eb7adebe694ec52bf09"
          }
        },
        "580a44bfb94d49e9b2c688a30ba27fc9": {
          "model_module": "@jupyter-widgets/controls",
          "model_name": "ProgressStyleModel",
          "state": {
            "_view_name": "StyleView",
            "_model_name": "ProgressStyleModel",
            "description_width": "initial",
            "_view_module": "@jupyter-widgets/base",
            "_model_module_version": "1.5.0",
            "_view_count": null,
            "_view_module_version": "1.2.0",
            "bar_color": null,
            "_model_module": "@jupyter-widgets/controls"
          }
        },
        "97cede62fb4e4fb987ad6af9aa29f828": {
          "model_module": "@jupyter-widgets/base",
          "model_name": "LayoutModel",
          "state": {
            "_view_name": "LayoutView",
            "grid_template_rows": null,
            "right": null,
            "justify_content": null,
            "_view_module": "@jupyter-widgets/base",
            "overflow": null,
            "_model_module_version": "1.2.0",
            "_view_count": null,
            "flex_flow": null,
            "width": null,
            "min_width": null,
            "border": null,
            "align_items": null,
            "bottom": null,
            "_model_module": "@jupyter-widgets/base",
            "top": null,
            "grid_column": null,
            "overflow_y": null,
            "overflow_x": null,
            "grid_auto_flow": null,
            "grid_area": null,
            "grid_template_columns": null,
            "flex": null,
            "_model_name": "LayoutModel",
            "justify_items": null,
            "grid_row": null,
            "max_height": null,
            "align_content": null,
            "visibility": null,
            "align_self": null,
            "height": null,
            "min_height": null,
            "padding": null,
            "grid_auto_rows": null,
            "grid_gap": null,
            "max_width": null,
            "order": null,
            "_view_module_version": "1.2.0",
            "grid_template_areas": null,
            "object_position": null,
            "object_fit": null,
            "grid_auto_columns": null,
            "margin": null,
            "display": null,
            "left": null
          }
        },
        "71baadd457b84ed0a6841f6009b36cad": {
          "model_module": "@jupyter-widgets/controls",
          "model_name": "DescriptionStyleModel",
          "state": {
            "_view_name": "StyleView",
            "_model_name": "DescriptionStyleModel",
            "description_width": "",
            "_view_module": "@jupyter-widgets/base",
            "_model_module_version": "1.5.0",
            "_view_count": null,
            "_view_module_version": "1.2.0",
            "_model_module": "@jupyter-widgets/controls"
          }
        },
        "d4d9bc223f214eb7adebe694ec52bf09": {
          "model_module": "@jupyter-widgets/base",
          "model_name": "LayoutModel",
          "state": {
            "_view_name": "LayoutView",
            "grid_template_rows": null,
            "right": null,
            "justify_content": null,
            "_view_module": "@jupyter-widgets/base",
            "overflow": null,
            "_model_module_version": "1.2.0",
            "_view_count": null,
            "flex_flow": null,
            "width": null,
            "min_width": null,
            "border": null,
            "align_items": null,
            "bottom": null,
            "_model_module": "@jupyter-widgets/base",
            "top": null,
            "grid_column": null,
            "overflow_y": null,
            "overflow_x": null,
            "grid_auto_flow": null,
            "grid_area": null,
            "grid_template_columns": null,
            "flex": null,
            "_model_name": "LayoutModel",
            "justify_items": null,
            "grid_row": null,
            "max_height": null,
            "align_content": null,
            "visibility": null,
            "align_self": null,
            "height": null,
            "min_height": null,
            "padding": null,
            "grid_auto_rows": null,
            "grid_gap": null,
            "max_width": null,
            "order": null,
            "_view_module_version": "1.2.0",
            "grid_template_areas": null,
            "object_position": null,
            "object_fit": null,
            "grid_auto_columns": null,
            "margin": null,
            "display": null,
            "left": null
          }
        },
        "06925fb716694c618448c03cd6b0f244": {
          "model_module": "@jupyter-widgets/controls",
          "model_name": "HBoxModel",
          "state": {
            "_view_name": "HBoxView",
            "_dom_classes": [],
            "_model_name": "HBoxModel",
            "_view_module": "@jupyter-widgets/controls",
            "_model_module_version": "1.5.0",
            "_view_count": null,
            "_view_module_version": "1.5.0",
            "box_style": "",
            "layout": "IPY_MODEL_70f1d4e418494ab2b751bea1a4227db1",
            "_model_module": "@jupyter-widgets/controls",
            "children": [
              "IPY_MODEL_a8dde6f2f6554b5394ac59b8a865f621",
              "IPY_MODEL_5427e34fc43049e0981575ed61682e92"
            ]
          }
        },
        "70f1d4e418494ab2b751bea1a4227db1": {
          "model_module": "@jupyter-widgets/base",
          "model_name": "LayoutModel",
          "state": {
            "_view_name": "LayoutView",
            "grid_template_rows": null,
            "right": null,
            "justify_content": null,
            "_view_module": "@jupyter-widgets/base",
            "overflow": null,
            "_model_module_version": "1.2.0",
            "_view_count": null,
            "flex_flow": null,
            "width": null,
            "min_width": null,
            "border": null,
            "align_items": null,
            "bottom": null,
            "_model_module": "@jupyter-widgets/base",
            "top": null,
            "grid_column": null,
            "overflow_y": null,
            "overflow_x": null,
            "grid_auto_flow": null,
            "grid_area": null,
            "grid_template_columns": null,
            "flex": null,
            "_model_name": "LayoutModel",
            "justify_items": null,
            "grid_row": null,
            "max_height": null,
            "align_content": null,
            "visibility": null,
            "align_self": null,
            "height": null,
            "min_height": null,
            "padding": null,
            "grid_auto_rows": null,
            "grid_gap": null,
            "max_width": null,
            "order": null,
            "_view_module_version": "1.2.0",
            "grid_template_areas": null,
            "object_position": null,
            "object_fit": null,
            "grid_auto_columns": null,
            "margin": null,
            "display": null,
            "left": null
          }
        },
        "a8dde6f2f6554b5394ac59b8a865f621": {
          "model_module": "@jupyter-widgets/controls",
          "model_name": "FloatProgressModel",
          "state": {
            "_view_name": "ProgressView",
            "style": "IPY_MODEL_840100efc8284513a13e005a242d5365",
            "_dom_classes": [],
            "description": "Epoch [3/4]: [242/242] 100%",
            "_model_name": "FloatProgressModel",
            "bar_style": "success",
            "max": 242,
            "_view_module": "@jupyter-widgets/controls",
            "_model_module_version": "1.5.0",
            "value": 242,
            "_view_count": null,
            "_view_module_version": "1.5.0",
            "orientation": "horizontal",
            "min": 0,
            "description_tooltip": null,
            "_model_module": "@jupyter-widgets/controls",
            "layout": "IPY_MODEL_bbe96163383642ef8bb9514c04228df9"
          }
        },
        "5427e34fc43049e0981575ed61682e92": {
          "model_module": "@jupyter-widgets/controls",
          "model_name": "HTMLModel",
          "state": {
            "_view_name": "HTMLView",
            "style": "IPY_MODEL_badde2dae1e743d58c928eb206712ce3",
            "_dom_classes": [],
            "description": "",
            "_model_name": "HTMLModel",
            "placeholder": "​",
            "_view_module": "@jupyter-widgets/controls",
            "_model_module_version": "1.5.0",
            "value": ", loss=0.119 [1:34:47&lt;00:00]",
            "_view_count": null,
            "_view_module_version": "1.5.0",
            "description_tooltip": null,
            "_model_module": "@jupyter-widgets/controls",
            "layout": "IPY_MODEL_dc81c24036f24bec92d2dfb9b21bf3e3"
          }
        },
        "840100efc8284513a13e005a242d5365": {
          "model_module": "@jupyter-widgets/controls",
          "model_name": "ProgressStyleModel",
          "state": {
            "_view_name": "StyleView",
            "_model_name": "ProgressStyleModel",
            "description_width": "initial",
            "_view_module": "@jupyter-widgets/base",
            "_model_module_version": "1.5.0",
            "_view_count": null,
            "_view_module_version": "1.2.0",
            "bar_color": null,
            "_model_module": "@jupyter-widgets/controls"
          }
        },
        "bbe96163383642ef8bb9514c04228df9": {
          "model_module": "@jupyter-widgets/base",
          "model_name": "LayoutModel",
          "state": {
            "_view_name": "LayoutView",
            "grid_template_rows": null,
            "right": null,
            "justify_content": null,
            "_view_module": "@jupyter-widgets/base",
            "overflow": null,
            "_model_module_version": "1.2.0",
            "_view_count": null,
            "flex_flow": null,
            "width": null,
            "min_width": null,
            "border": null,
            "align_items": null,
            "bottom": null,
            "_model_module": "@jupyter-widgets/base",
            "top": null,
            "grid_column": null,
            "overflow_y": null,
            "overflow_x": null,
            "grid_auto_flow": null,
            "grid_area": null,
            "grid_template_columns": null,
            "flex": null,
            "_model_name": "LayoutModel",
            "justify_items": null,
            "grid_row": null,
            "max_height": null,
            "align_content": null,
            "visibility": null,
            "align_self": null,
            "height": null,
            "min_height": null,
            "padding": null,
            "grid_auto_rows": null,
            "grid_gap": null,
            "max_width": null,
            "order": null,
            "_view_module_version": "1.2.0",
            "grid_template_areas": null,
            "object_position": null,
            "object_fit": null,
            "grid_auto_columns": null,
            "margin": null,
            "display": null,
            "left": null
          }
        },
        "badde2dae1e743d58c928eb206712ce3": {
          "model_module": "@jupyter-widgets/controls",
          "model_name": "DescriptionStyleModel",
          "state": {
            "_view_name": "StyleView",
            "_model_name": "DescriptionStyleModel",
            "description_width": "",
            "_view_module": "@jupyter-widgets/base",
            "_model_module_version": "1.5.0",
            "_view_count": null,
            "_view_module_version": "1.2.0",
            "_model_module": "@jupyter-widgets/controls"
          }
        },
        "dc81c24036f24bec92d2dfb9b21bf3e3": {
          "model_module": "@jupyter-widgets/base",
          "model_name": "LayoutModel",
          "state": {
            "_view_name": "LayoutView",
            "grid_template_rows": null,
            "right": null,
            "justify_content": null,
            "_view_module": "@jupyter-widgets/base",
            "overflow": null,
            "_model_module_version": "1.2.0",
            "_view_count": null,
            "flex_flow": null,
            "width": null,
            "min_width": null,
            "border": null,
            "align_items": null,
            "bottom": null,
            "_model_module": "@jupyter-widgets/base",
            "top": null,
            "grid_column": null,
            "overflow_y": null,
            "overflow_x": null,
            "grid_auto_flow": null,
            "grid_area": null,
            "grid_template_columns": null,
            "flex": null,
            "_model_name": "LayoutModel",
            "justify_items": null,
            "grid_row": null,
            "max_height": null,
            "align_content": null,
            "visibility": null,
            "align_self": null,
            "height": null,
            "min_height": null,
            "padding": null,
            "grid_auto_rows": null,
            "grid_gap": null,
            "max_width": null,
            "order": null,
            "_view_module_version": "1.2.0",
            "grid_template_areas": null,
            "object_position": null,
            "object_fit": null,
            "grid_auto_columns": null,
            "margin": null,
            "display": null,
            "left": null
          }
        },
        "172e10895e374bf093db551039eab386": {
          "model_module": "@jupyter-widgets/controls",
          "model_name": "HBoxModel",
          "state": {
            "_view_name": "HBoxView",
            "_dom_classes": [],
            "_model_name": "HBoxModel",
            "_view_module": "@jupyter-widgets/controls",
            "_model_module_version": "1.5.0",
            "_view_count": null,
            "_view_module_version": "1.5.0",
            "box_style": "",
            "layout": "IPY_MODEL_80b64ab8e5984773af88ef38ab235d06",
            "_model_module": "@jupyter-widgets/controls",
            "children": [
              "IPY_MODEL_d185c5ce79864c88b44cb98643431c87",
              "IPY_MODEL_48a4ae029673403aafead799d8ff932d"
            ]
          }
        },
        "80b64ab8e5984773af88ef38ab235d06": {
          "model_module": "@jupyter-widgets/base",
          "model_name": "LayoutModel",
          "state": {
            "_view_name": "LayoutView",
            "grid_template_rows": null,
            "right": null,
            "justify_content": null,
            "_view_module": "@jupyter-widgets/base",
            "overflow": null,
            "_model_module_version": "1.2.0",
            "_view_count": null,
            "flex_flow": null,
            "width": null,
            "min_width": null,
            "border": null,
            "align_items": null,
            "bottom": null,
            "_model_module": "@jupyter-widgets/base",
            "top": null,
            "grid_column": null,
            "overflow_y": null,
            "overflow_x": null,
            "grid_auto_flow": null,
            "grid_area": null,
            "grid_template_columns": null,
            "flex": null,
            "_model_name": "LayoutModel",
            "justify_items": null,
            "grid_row": null,
            "max_height": null,
            "align_content": null,
            "visibility": null,
            "align_self": null,
            "height": null,
            "min_height": null,
            "padding": null,
            "grid_auto_rows": null,
            "grid_gap": null,
            "max_width": null,
            "order": null,
            "_view_module_version": "1.2.0",
            "grid_template_areas": null,
            "object_position": null,
            "object_fit": null,
            "grid_auto_columns": null,
            "margin": null,
            "display": null,
            "left": null
          }
        },
        "d185c5ce79864c88b44cb98643431c87": {
          "model_module": "@jupyter-widgets/controls",
          "model_name": "FloatProgressModel",
          "state": {
            "_view_name": "ProgressView",
            "style": "IPY_MODEL_a7e93fcdef4d48e3838c17570abf3ddf",
            "_dom_classes": [],
            "description": "Epoch [4/4]: [242/242] 100%",
            "_model_name": "FloatProgressModel",
            "bar_style": "success",
            "max": 242,
            "_view_module": "@jupyter-widgets/controls",
            "_model_module_version": "1.5.0",
            "value": 242,
            "_view_count": null,
            "_view_module_version": "1.5.0",
            "orientation": "horizontal",
            "min": 0,
            "description_tooltip": null,
            "_model_module": "@jupyter-widgets/controls",
            "layout": "IPY_MODEL_7f97c2c8057d4a2ca8dcff32e083ae38"
          }
        },
        "48a4ae029673403aafead799d8ff932d": {
          "model_module": "@jupyter-widgets/controls",
          "model_name": "HTMLModel",
          "state": {
            "_view_name": "HTMLView",
            "style": "IPY_MODEL_5191bc81e91149318adfb364c74d0981",
            "_dom_classes": [],
            "description": "",
            "_model_name": "HTMLModel",
            "placeholder": "​",
            "_view_module": "@jupyter-widgets/controls",
            "_model_module_version": "1.5.0",
            "value": ", loss=0.0391 [1:34:31&lt;00:00]",
            "_view_count": null,
            "_view_module_version": "1.5.0",
            "description_tooltip": null,
            "_model_module": "@jupyter-widgets/controls",
            "layout": "IPY_MODEL_ac8d77eaad9c435d867d630db4c26676"
          }
        },
        "a7e93fcdef4d48e3838c17570abf3ddf": {
          "model_module": "@jupyter-widgets/controls",
          "model_name": "ProgressStyleModel",
          "state": {
            "_view_name": "StyleView",
            "_model_name": "ProgressStyleModel",
            "description_width": "initial",
            "_view_module": "@jupyter-widgets/base",
            "_model_module_version": "1.5.0",
            "_view_count": null,
            "_view_module_version": "1.2.0",
            "bar_color": null,
            "_model_module": "@jupyter-widgets/controls"
          }
        },
        "7f97c2c8057d4a2ca8dcff32e083ae38": {
          "model_module": "@jupyter-widgets/base",
          "model_name": "LayoutModel",
          "state": {
            "_view_name": "LayoutView",
            "grid_template_rows": null,
            "right": null,
            "justify_content": null,
            "_view_module": "@jupyter-widgets/base",
            "overflow": null,
            "_model_module_version": "1.2.0",
            "_view_count": null,
            "flex_flow": null,
            "width": null,
            "min_width": null,
            "border": null,
            "align_items": null,
            "bottom": null,
            "_model_module": "@jupyter-widgets/base",
            "top": null,
            "grid_column": null,
            "overflow_y": null,
            "overflow_x": null,
            "grid_auto_flow": null,
            "grid_area": null,
            "grid_template_columns": null,
            "flex": null,
            "_model_name": "LayoutModel",
            "justify_items": null,
            "grid_row": null,
            "max_height": null,
            "align_content": null,
            "visibility": null,
            "align_self": null,
            "height": null,
            "min_height": null,
            "padding": null,
            "grid_auto_rows": null,
            "grid_gap": null,
            "max_width": null,
            "order": null,
            "_view_module_version": "1.2.0",
            "grid_template_areas": null,
            "object_position": null,
            "object_fit": null,
            "grid_auto_columns": null,
            "margin": null,
            "display": null,
            "left": null
          }
        },
        "5191bc81e91149318adfb364c74d0981": {
          "model_module": "@jupyter-widgets/controls",
          "model_name": "DescriptionStyleModel",
          "state": {
            "_view_name": "StyleView",
            "_model_name": "DescriptionStyleModel",
            "description_width": "",
            "_view_module": "@jupyter-widgets/base",
            "_model_module_version": "1.5.0",
            "_view_count": null,
            "_view_module_version": "1.2.0",
            "_model_module": "@jupyter-widgets/controls"
          }
        },
        "ac8d77eaad9c435d867d630db4c26676": {
          "model_module": "@jupyter-widgets/base",
          "model_name": "LayoutModel",
          "state": {
            "_view_name": "LayoutView",
            "grid_template_rows": null,
            "right": null,
            "justify_content": null,
            "_view_module": "@jupyter-widgets/base",
            "overflow": null,
            "_model_module_version": "1.2.0",
            "_view_count": null,
            "flex_flow": null,
            "width": null,
            "min_width": null,
            "border": null,
            "align_items": null,
            "bottom": null,
            "_model_module": "@jupyter-widgets/base",
            "top": null,
            "grid_column": null,
            "overflow_y": null,
            "overflow_x": null,
            "grid_auto_flow": null,
            "grid_area": null,
            "grid_template_columns": null,
            "flex": null,
            "_model_name": "LayoutModel",
            "justify_items": null,
            "grid_row": null,
            "max_height": null,
            "align_content": null,
            "visibility": null,
            "align_self": null,
            "height": null,
            "min_height": null,
            "padding": null,
            "grid_auto_rows": null,
            "grid_gap": null,
            "max_width": null,
            "order": null,
            "_view_module_version": "1.2.0",
            "grid_template_areas": null,
            "object_position": null,
            "object_fit": null,
            "grid_auto_columns": null,
            "margin": null,
            "display": null,
            "left": null
          }
        }
      }
    }
  },
  "cells": [
    {
      "cell_type": "code",
      "metadata": {
        "id": "JluVKVgB8hLU"
      },
      "source": [
        "import tensorflow as tf"
      ],
      "execution_count": null,
      "outputs": []
    },
    {
      "cell_type": "code",
      "metadata": {
        "colab": {
          "base_uri": "https://localhost:8080/"
        },
        "id": "I5ZqSjjj8mv0",
        "outputId": "13c638a5-2e0a-450e-ebc4-42dbd8f08851"
      },
      "source": [
        "!pip install pytorch-transformers"
      ],
      "execution_count": null,
      "outputs": [
        {
          "output_type": "stream",
          "text": [
            "Requirement already satisfied: pytorch-transformers in /usr/local/lib/python3.6/dist-packages (1.2.0)\n",
            "Requirement already satisfied: boto3 in /usr/local/lib/python3.6/dist-packages (from pytorch-transformers) (1.16.63)\n",
            "Requirement already satisfied: sacremoses in /usr/local/lib/python3.6/dist-packages (from pytorch-transformers) (0.0.43)\n",
            "Requirement already satisfied: tqdm in /usr/local/lib/python3.6/dist-packages (from pytorch-transformers) (4.41.1)\n",
            "Requirement already satisfied: numpy in /usr/local/lib/python3.6/dist-packages (from pytorch-transformers) (1.19.5)\n",
            "Requirement already satisfied: requests in /usr/local/lib/python3.6/dist-packages (from pytorch-transformers) (2.23.0)\n",
            "Requirement already satisfied: torch>=1.0.0 in /usr/local/lib/python3.6/dist-packages (from pytorch-transformers) (1.7.0+cu101)\n",
            "Requirement already satisfied: regex in /usr/local/lib/python3.6/dist-packages (from pytorch-transformers) (2019.12.20)\n",
            "Requirement already satisfied: sentencepiece in /usr/local/lib/python3.6/dist-packages (from pytorch-transformers) (0.1.95)\n",
            "Requirement already satisfied: botocore<1.20.0,>=1.19.63 in /usr/local/lib/python3.6/dist-packages (from boto3->pytorch-transformers) (1.19.63)\n",
            "Requirement already satisfied: jmespath<1.0.0,>=0.7.1 in /usr/local/lib/python3.6/dist-packages (from boto3->pytorch-transformers) (0.10.0)\n",
            "Requirement already satisfied: s3transfer<0.4.0,>=0.3.0 in /usr/local/lib/python3.6/dist-packages (from boto3->pytorch-transformers) (0.3.4)\n",
            "Requirement already satisfied: joblib in /usr/local/lib/python3.6/dist-packages (from sacremoses->pytorch-transformers) (1.0.0)\n",
            "Requirement already satisfied: six in /usr/local/lib/python3.6/dist-packages (from sacremoses->pytorch-transformers) (1.15.0)\n",
            "Requirement already satisfied: click in /usr/local/lib/python3.6/dist-packages (from sacremoses->pytorch-transformers) (7.1.2)\n",
            "Requirement already satisfied: chardet<4,>=3.0.2 in /usr/local/lib/python3.6/dist-packages (from requests->pytorch-transformers) (3.0.4)\n",
            "Requirement already satisfied: idna<3,>=2.5 in /usr/local/lib/python3.6/dist-packages (from requests->pytorch-transformers) (2.10)\n",
            "Requirement already satisfied: certifi>=2017.4.17 in /usr/local/lib/python3.6/dist-packages (from requests->pytorch-transformers) (2020.12.5)\n",
            "Requirement already satisfied: urllib3!=1.25.0,!=1.25.1,<1.26,>=1.21.1 in /usr/local/lib/python3.6/dist-packages (from requests->pytorch-transformers) (1.24.3)\n",
            "Requirement already satisfied: dataclasses in /usr/local/lib/python3.6/dist-packages (from torch>=1.0.0->pytorch-transformers) (0.8)\n",
            "Requirement already satisfied: typing-extensions in /usr/local/lib/python3.6/dist-packages (from torch>=1.0.0->pytorch-transformers) (3.7.4.3)\n",
            "Requirement already satisfied: future in /usr/local/lib/python3.6/dist-packages (from torch>=1.0.0->pytorch-transformers) (0.16.0)\n",
            "Requirement already satisfied: python-dateutil<3.0.0,>=2.1 in /usr/local/lib/python3.6/dist-packages (from botocore<1.20.0,>=1.19.63->boto3->pytorch-transformers) (2.8.1)\n"
          ],
          "name": "stdout"
        }
      ]
    },
    {
      "cell_type": "code",
      "metadata": {
        "colab": {
          "base_uri": "https://localhost:8080/"
        },
        "id": "hcMXHp0W8prQ",
        "outputId": "d612e946-c8d9-4a6f-c22c-f0659bf868c0"
      },
      "source": [
        "!pip install pytorch-ignite ipdb"
      ],
      "execution_count": null,
      "outputs": [
        {
          "output_type": "stream",
          "text": [
            "Requirement already satisfied: pytorch-ignite in /usr/local/lib/python3.6/dist-packages (0.4.2)\n",
            "Requirement already satisfied: ipdb in /usr/local/lib/python3.6/dist-packages (0.13.4)\n",
            "Requirement already satisfied: torch<2,>=1.3 in /usr/local/lib/python3.6/dist-packages (from pytorch-ignite) (1.7.0+cu101)\n",
            "Requirement already satisfied: ipython>=5.1.0; python_version >= \"3.4\" in /usr/local/lib/python3.6/dist-packages (from ipdb) (5.5.0)\n",
            "Requirement already satisfied: setuptools in /usr/local/lib/python3.6/dist-packages (from ipdb) (51.3.3)\n",
            "Requirement already satisfied: future in /usr/local/lib/python3.6/dist-packages (from torch<2,>=1.3->pytorch-ignite) (0.16.0)\n",
            "Requirement already satisfied: typing-extensions in /usr/local/lib/python3.6/dist-packages (from torch<2,>=1.3->pytorch-ignite) (3.7.4.3)\n",
            "Requirement already satisfied: dataclasses in /usr/local/lib/python3.6/dist-packages (from torch<2,>=1.3->pytorch-ignite) (0.8)\n",
            "Requirement already satisfied: numpy in /usr/local/lib/python3.6/dist-packages (from torch<2,>=1.3->pytorch-ignite) (1.19.5)\n",
            "Requirement already satisfied: traitlets>=4.2 in /usr/local/lib/python3.6/dist-packages (from ipython>=5.1.0; python_version >= \"3.4\"->ipdb) (4.3.3)\n",
            "Requirement already satisfied: simplegeneric>0.8 in /usr/local/lib/python3.6/dist-packages (from ipython>=5.1.0; python_version >= \"3.4\"->ipdb) (0.8.1)\n",
            "Requirement already satisfied: pygments in /usr/local/lib/python3.6/dist-packages (from ipython>=5.1.0; python_version >= \"3.4\"->ipdb) (2.6.1)\n",
            "Requirement already satisfied: prompt-toolkit<2.0.0,>=1.0.4 in /usr/local/lib/python3.6/dist-packages (from ipython>=5.1.0; python_version >= \"3.4\"->ipdb) (1.0.18)\n",
            "Requirement already satisfied: pexpect; sys_platform != \"win32\" in /usr/local/lib/python3.6/dist-packages (from ipython>=5.1.0; python_version >= \"3.4\"->ipdb) (4.8.0)\n",
            "Requirement already satisfied: pickleshare in /usr/local/lib/python3.6/dist-packages (from ipython>=5.1.0; python_version >= \"3.4\"->ipdb) (0.7.5)\n",
            "Requirement already satisfied: decorator in /usr/local/lib/python3.6/dist-packages (from ipython>=5.1.0; python_version >= \"3.4\"->ipdb) (4.4.2)\n",
            "Requirement already satisfied: six in /usr/local/lib/python3.6/dist-packages (from traitlets>=4.2->ipython>=5.1.0; python_version >= \"3.4\"->ipdb) (1.15.0)\n",
            "Requirement already satisfied: ipython-genutils in /usr/local/lib/python3.6/dist-packages (from traitlets>=4.2->ipython>=5.1.0; python_version >= \"3.4\"->ipdb) (0.2.0)\n",
            "Requirement already satisfied: wcwidth in /usr/local/lib/python3.6/dist-packages (from prompt-toolkit<2.0.0,>=1.0.4->ipython>=5.1.0; python_version >= \"3.4\"->ipdb) (0.2.5)\n",
            "Requirement already satisfied: ptyprocess>=0.5 in /usr/local/lib/python3.6/dist-packages (from pexpect; sys_platform != \"win32\"->ipython>=5.1.0; python_version >= \"3.4\"->ipdb) (0.7.0)\n"
          ],
          "name": "stdout"
        }
      ]
    },
    {
      "cell_type": "code",
      "metadata": {
        "id": "mqzEyJ7Y8s_3"
      },
      "source": [
        "import torch\r\n",
        "import torch.nn as nn\r\n",
        "from torch.nn import CrossEntropyLoss\r\n",
        "from torch.utils.data import TensorDataset, DataLoader, RandomSampler, SequentialSampler\r\n",
        "from keras.preprocessing.sequence import pad_sequences\r\n",
        "from sklearn.model_selection import train_test_split\r\n",
        "from tqdm import tqdm, trange\r\n",
        "import pandas as pd\r\n",
        "import io\r\n",
        "import numpy as np\r\n",
        "import matplotlib.pyplot as plt\r\n",
        "% matplotlib inline"
      ],
      "execution_count": null,
      "outputs": []
    },
    {
      "cell_type": "code",
      "metadata": {
        "id": "FhoRb8Av8vHJ"
      },
      "source": [
        "from pytorch_transformers import cached_path\r\n",
        "from pytorch_transformers import AdamW, WarmupLinearSchedule\r\n",
        "\r\n",
        "# GPT2 Related\r\n",
        "from  pytorch_transformers import OpenAIGPTTokenizer\r\n",
        "from  pytorch_transformers import OpenAIGPTModel"
      ],
      "execution_count": null,
      "outputs": []
    },
    {
      "cell_type": "code",
      "metadata": {
        "id": "sLxv-NkN8wpr"
      },
      "source": [
        "device = torch.device(\"cuda\" if torch.cuda.is_available() else \"cpu\")\r\n",
        "n_gpu = torch.cuda.device_count()\r\n",
        "#torch.cuda.get_device_name(0)"
      ],
      "execution_count": null,
      "outputs": []
    },
    {
      "cell_type": "code",
      "metadata": {
        "colab": {
          "base_uri": "https://localhost:8080/"
        },
        "id": "A4F6zHVI8yyU",
        "outputId": "aa61a481-d04b-4da5-c33f-0119580cdd39"
      },
      "source": [
        "gpttokenizer = OpenAIGPTTokenizer.from_pretrained('openai-gpt')"
      ],
      "execution_count": null,
      "outputs": [
        {
          "output_type": "stream",
          "text": [
            "ftfy or spacy is not installed using BERT BasicTokenizer instead of SpaCy & ftfy.\n"
          ],
          "name": "stderr"
        }
      ]
    },
    {
      "cell_type": "code",
      "metadata": {
        "colab": {
          "base_uri": "https://localhost:8080/"
        },
        "id": "osftTFyH808U",
        "outputId": "32f0fe51-7cb6-42a2-884b-7d39d96551f4"
      },
      "source": [
        "gpttokenizer.add_special_tokens({'cls_token': '[CLS]'})"
      ],
      "execution_count": null,
      "outputs": [
        {
          "output_type": "execute_result",
          "data": {
            "text/plain": [
              "1"
            ]
          },
          "metadata": {
            "tags": []
          },
          "execution_count": 16
        }
      ]
    },
    {
      "cell_type": "code",
      "metadata": {
        "colab": {
          "base_uri": "https://localhost:8080/"
        },
        "id": "7d1fkwK385XB",
        "outputId": "3295435d-1078-4919-f762-1c08a5d76d5b"
      },
      "source": [
        "gpttokenizer.convert_tokens_to_ids(gpttokenizer.cls_token)"
      ],
      "execution_count": null,
      "outputs": [
        {
          "output_type": "execute_result",
          "data": {
            "text/plain": [
              "40478"
            ]
          },
          "metadata": {
            "tags": []
          },
          "execution_count": 17
        }
      ]
    },
    {
      "cell_type": "code",
      "metadata": {
        "id": "x58NQDOQ89ya"
      },
      "source": [
        "df = pd.read_csv(\"raw_data.csv\")"
      ],
      "execution_count": null,
      "outputs": []
    },
    {
      "cell_type": "code",
      "metadata": {
        "colab": {
          "base_uri": "https://localhost:8080/"
        },
        "id": "sN7rGwQU9FtS",
        "outputId": "6eabea3d-9720-4941-9284-d7a92f0fba88"
      },
      "source": [
        "df.shape"
      ],
      "execution_count": null,
      "outputs": [
        {
          "output_type": "execute_result",
          "data": {
            "text/plain": [
              "(4072, 6)"
            ]
          },
          "metadata": {
            "tags": []
          },
          "execution_count": 19
        }
      ]
    },
    {
      "cell_type": "code",
      "metadata": {
        "colab": {
          "base_uri": "https://localhost:8080/",
          "height": 343
        },
        "id": "FPNFd4_B9KwE",
        "outputId": "15e4b16c-9a7e-4627-c581-5e25ba179e68"
      },
      "source": [
        "df.sample(10)"
      ],
      "execution_count": null,
      "outputs": [
        {
          "output_type": "execute_result",
          "data": {
            "text/html": [
              "<div>\n",
              "<style scoped>\n",
              "    .dataframe tbody tr th:only-of-type {\n",
              "        vertical-align: middle;\n",
              "    }\n",
              "\n",
              "    .dataframe tbody tr th {\n",
              "        vertical-align: top;\n",
              "    }\n",
              "\n",
              "    .dataframe thead th {\n",
              "        text-align: right;\n",
              "    }\n",
              "</style>\n",
              "<table border=\"1\" class=\"dataframe\">\n",
              "  <thead>\n",
              "    <tr style=\"text-align: right;\">\n",
              "      <th></th>\n",
              "      <th>Sno</th>\n",
              "      <th>Date</th>\n",
              "      <th>Headline</th>\n",
              "      <th>Covid</th>\n",
              "      <th>Sentiment</th>\n",
              "      <th>Description</th>\n",
              "    </tr>\n",
              "  </thead>\n",
              "  <tbody>\n",
              "    <tr>\n",
              "      <th>3</th>\n",
              "      <td>3</td>\n",
              "      <td>30-04-20</td>\n",
              "      <td>It's a terrible week for Indian cinema: Rahul ...</td>\n",
              "      <td>0</td>\n",
              "      <td>0</td>\n",
              "      <td>Congress leader Rahul Gandhi condoled Rishi Ka...</td>\n",
              "    </tr>\n",
              "    <tr>\n",
              "      <th>3731</th>\n",
              "      <td>3731</td>\n",
              "      <td>07-03-20</td>\n",
              "      <td>DMK General Secretary for 43 yrs Anbazhagan pa...</td>\n",
              "      <td>0</td>\n",
              "      <td>0</td>\n",
              "      <td>Dravida Munnetra Kazhagam (DMK) General Secret...</td>\n",
              "    </tr>\n",
              "    <tr>\n",
              "      <th>1434</th>\n",
              "      <td>1434</td>\n",
              "      <td>09-04-20</td>\n",
              "      <td>Coronavirus cases in Kerala rise to 357, all 8...</td>\n",
              "      <td>1</td>\n",
              "      <td>0</td>\n",
              "      <td>Kerala Chief Minister Pinarayi Vijayan on Wedn...</td>\n",
              "    </tr>\n",
              "    <tr>\n",
              "      <th>1014</th>\n",
              "      <td>1014</td>\n",
              "      <td>15-04-20</td>\n",
              "      <td>Man held for social media posts that allegedly...</td>\n",
              "      <td>0</td>\n",
              "      <td>0</td>\n",
              "      <td>The Navi Mumbai Police has arrested a man name...</td>\n",
              "    </tr>\n",
              "    <tr>\n",
              "      <th>2902</th>\n",
              "      <td>2902</td>\n",
              "      <td>21-03-20</td>\n",
              "      <td>5th coronavirus case found in Noida, his socie...</td>\n",
              "      <td>1</td>\n",
              "      <td>0</td>\n",
              "      <td>A person has tested positive for coronavirus i...</td>\n",
              "    </tr>\n",
              "    <tr>\n",
              "      <th>1370</th>\n",
              "      <td>1370</td>\n",
              "      <td>10-04-20</td>\n",
              "      <td>Migrant worker donates ₹5k to Kerala CM's reli...</td>\n",
              "      <td>1</td>\n",
              "      <td>1</td>\n",
              "      <td>A migrant worker from Rajasthan contributed ₹5...</td>\n",
              "    </tr>\n",
              "    <tr>\n",
              "      <th>3951</th>\n",
              "      <td>3951</td>\n",
              "      <td>03-03-20</td>\n",
              "      <td>24-yr-old with 10k Twitter followers arrested ...</td>\n",
              "      <td>0</td>\n",
              "      <td>0</td>\n",
              "      <td>A 24-year-old man, who has over 10,000 followe...</td>\n",
              "    </tr>\n",
              "    <tr>\n",
              "      <th>3922</th>\n",
              "      <td>3922</td>\n",
              "      <td>03-03-20</td>\n",
              "      <td>Row in K'taka House over BJP MLA calling 101-y...</td>\n",
              "      <td>0</td>\n",
              "      <td>0</td>\n",
              "      <td>Karnataka Assembly was adjourned on Monday aft...</td>\n",
              "    </tr>\n",
              "    <tr>\n",
              "      <th>3239</th>\n",
              "      <td>3239</td>\n",
              "      <td>16-03-20</td>\n",
              "      <td>No order was placed with presses to print ₹2,0...</td>\n",
              "      <td>0</td>\n",
              "      <td>0</td>\n",
              "      <td>Minister of State for Finance Anurag Singh Tha...</td>\n",
              "    </tr>\n",
              "    <tr>\n",
              "      <th>3451</th>\n",
              "      <td>3451</td>\n",
              "      <td>13-03-20</td>\n",
              "      <td>Fortunate BJP opened doors, received PM Modi's...</td>\n",
              "      <td>0</td>\n",
              "      <td>0</td>\n",
              "      <td>BJP leader Jyotiraditya Scindia said he consid...</td>\n",
              "    </tr>\n",
              "  </tbody>\n",
              "</table>\n",
              "</div>"
            ],
            "text/plain": [
              "       Sno  ...                                        Description\n",
              "3        3  ...  Congress leader Rahul Gandhi condoled Rishi Ka...\n",
              "3731  3731  ...  Dravida Munnetra Kazhagam (DMK) General Secret...\n",
              "1434  1434  ...  Kerala Chief Minister Pinarayi Vijayan on Wedn...\n",
              "1014  1014  ...  The Navi Mumbai Police has arrested a man name...\n",
              "2902  2902  ...  A person has tested positive for coronavirus i...\n",
              "1370  1370  ...  A migrant worker from Rajasthan contributed ₹5...\n",
              "3951  3951  ...  A 24-year-old man, who has over 10,000 followe...\n",
              "3922  3922  ...  Karnataka Assembly was adjourned on Monday aft...\n",
              "3239  3239  ...  Minister of State for Finance Anurag Singh Tha...\n",
              "3451  3451  ...  BJP leader Jyotiraditya Scindia said he consid...\n",
              "\n",
              "[10 rows x 6 columns]"
            ]
          },
          "metadata": {
            "tags": []
          },
          "execution_count": 20
        }
      ]
    },
    {
      "cell_type": "code",
      "metadata": {
        "id": "NZC3LBxV9NWd"
      },
      "source": [
        "sentences = df.Description.values\r\n",
        "labels = df.Sentiment.values\r\n"
      ],
      "execution_count": null,
      "outputs": []
    },
    {
      "cell_type": "code",
      "metadata": {
        "id": "dl9--OdP_Yu9"
      },
      "source": [
        "s0 = sentences[0]"
      ],
      "execution_count": null,
      "outputs": []
    },
    {
      "cell_type": "code",
      "metadata": {
        "colab": {
          "base_uri": "https://localhost:8080/"
        },
        "id": "8dC-bMC5_bgs",
        "outputId": "20479c1c-6128-4e6f-b6db-1bfafef86621"
      },
      "source": [
        "print(s0)"
      ],
      "execution_count": null,
      "outputs": [
        {
          "output_type": "stream",
          "text": [
            "Rajasthan on Wednesday reported 74 new coronavirus cases, taking the total number of cases in the state to 2,438. All three deaths reported in the state today were from Jaipur, taking the death toll to 55. Notably, 814 patients have recovered in the state and 592 were discharged. Jaipur is the worst-hit district with 878 cases and 30 deaths.\n"
          ],
          "name": "stdout"
        }
      ]
    },
    {
      "cell_type": "code",
      "metadata": {
        "colab": {
          "base_uri": "https://localhost:8080/"
        },
        "id": "2LWqf1z9_dXY",
        "outputId": "4254a0d6-9e2d-488d-f9ea-828316268f5e"
      },
      "source": [
        "[gpttokenizer.tokenize(s0)]"
      ],
      "execution_count": null,
      "outputs": [
        {
          "output_type": "execute_result",
          "data": {
            "text/plain": [
              "[['ra',\n",
              "  'jas',\n",
              "  'than</w>',\n",
              "  'on</w>',\n",
              "  'wednesday</w>',\n",
              "  'reported</w>',\n",
              "  '74</w>',\n",
              "  'new</w>',\n",
              "  'coron',\n",
              "  'a',\n",
              "  'virus</w>',\n",
              "  'cases</w>',\n",
              "  ',</w>',\n",
              "  'taking</w>',\n",
              "  'the</w>',\n",
              "  'total</w>',\n",
              "  'number</w>',\n",
              "  'of</w>',\n",
              "  'cases</w>',\n",
              "  'in</w>',\n",
              "  'the</w>',\n",
              "  'state</w>',\n",
              "  'to</w>',\n",
              "  '2</w>',\n",
              "  ',</w>',\n",
              "  '4',\n",
              "  '38</w>',\n",
              "  '.</w>',\n",
              "  'all</w>',\n",
              "  'three</w>',\n",
              "  'deaths</w>',\n",
              "  'reported</w>',\n",
              "  'in</w>',\n",
              "  'the</w>',\n",
              "  'state</w>',\n",
              "  'today</w>',\n",
              "  'were</w>',\n",
              "  'from</w>',\n",
              "  'jai',\n",
              "  'pu',\n",
              "  'r</w>',\n",
              "  ',</w>',\n",
              "  'taking</w>',\n",
              "  'the</w>',\n",
              "  'death</w>',\n",
              "  'toll</w>',\n",
              "  'to</w>',\n",
              "  '55</w>',\n",
              "  '.</w>',\n",
              "  'notably</w>',\n",
              "  ',</w>',\n",
              "  '8',\n",
              "  '14</w>',\n",
              "  'patients</w>',\n",
              "  'have</w>',\n",
              "  'recovered</w>',\n",
              "  'in</w>',\n",
              "  'the</w>',\n",
              "  'state</w>',\n",
              "  'and</w>',\n",
              "  '5',\n",
              "  '92</w>',\n",
              "  'were</w>',\n",
              "  'discharged</w>',\n",
              "  '.</w>',\n",
              "  'jai',\n",
              "  'pu',\n",
              "  'r</w>',\n",
              "  'is</w>',\n",
              "  'the</w>',\n",
              "  'worst</w>',\n",
              "  '-</w>',\n",
              "  'hit</w>',\n",
              "  'district</w>',\n",
              "  'with</w>',\n",
              "  '8',\n",
              "  '78</w>',\n",
              "  'cases</w>',\n",
              "  'and</w>',\n",
              "  '30</w>',\n",
              "  'deaths</w>',\n",
              "  '.</w>']]"
            ]
          },
          "metadata": {
            "tags": []
          },
          "execution_count": 24
        }
      ]
    },
    {
      "cell_type": "code",
      "metadata": {
        "colab": {
          "base_uri": "https://localhost:8080/"
        },
        "id": "5eXIUsFw_fjz",
        "outputId": "239b575f-99d3-4097-d434-ef9f64c0762c"
      },
      "source": [
        "tokenized_texts = [gpttokenizer.tokenize(sent) for sent in sentences]\r\n",
        "print (\"Tokenize the first sentence:\")\r\n",
        "print (tokenized_texts[0])"
      ],
      "execution_count": null,
      "outputs": [
        {
          "output_type": "stream",
          "text": [
            "Tokenize the first sentence:\n",
            "['ra', 'jas', 'than</w>', 'on</w>', 'wednesday</w>', 'reported</w>', '74</w>', 'new</w>', 'coron', 'a', 'virus</w>', 'cases</w>', ',</w>', 'taking</w>', 'the</w>', 'total</w>', 'number</w>', 'of</w>', 'cases</w>', 'in</w>', 'the</w>', 'state</w>', 'to</w>', '2</w>', ',</w>', '4', '38</w>', '.</w>', 'all</w>', 'three</w>', 'deaths</w>', 'reported</w>', 'in</w>', 'the</w>', 'state</w>', 'today</w>', 'were</w>', 'from</w>', 'jai', 'pu', 'r</w>', ',</w>', 'taking</w>', 'the</w>', 'death</w>', 'toll</w>', 'to</w>', '55</w>', '.</w>', 'notably</w>', ',</w>', '8', '14</w>', 'patients</w>', 'have</w>', 'recovered</w>', 'in</w>', 'the</w>', 'state</w>', 'and</w>', '5', '92</w>', 'were</w>', 'discharged</w>', '.</w>', 'jai', 'pu', 'r</w>', 'is</w>', 'the</w>', 'worst</w>', '-</w>', 'hit</w>', 'district</w>', 'with</w>', '8', '78</w>', 'cases</w>', 'and</w>', '30</w>', 'deaths</w>', '.</w>']\n"
          ],
          "name": "stdout"
        }
      ]
    },
    {
      "cell_type": "code",
      "metadata": {
        "id": "aD7REaiv_iXN"
      },
      "source": [
        "MAX_LEN = 128"
      ],
      "execution_count": null,
      "outputs": []
    },
    {
      "cell_type": "code",
      "metadata": {
        "id": "O0ylLSuA_kNt"
      },
      "source": [
        "input_ids = [gpttokenizer.convert_tokens_to_ids(x) for x in tokenized_texts]"
      ],
      "execution_count": null,
      "outputs": []
    },
    {
      "cell_type": "code",
      "metadata": {
        "colab": {
          "base_uri": "https://localhost:8080/"
        },
        "id": "wmcvkojQ_nXr",
        "outputId": "aa2e3215-5375-4507-d78c-e329809d3ea0"
      },
      "source": [
        "print(input_ids[:2])"
      ],
      "execution_count": null,
      "outputs": [
        {
          "output_type": "stream",
          "text": [
            "[[565, 2623, 815, 504, 9156, 7498, 34604, 783, 19795, 8, 9388, 5767, 240, 1493, 481, 5063, 2253, 498, 5767, 500, 481, 2720, 485, 280, 240, 44, 15931, 239, 589, 1203, 9020, 7498, 500, 481, 2720, 1873, 641, 617, 8199, 673, 255, 240, 1493, 481, 1767, 14164, 485, 20218, 239, 36792, 240, 54, 7765, 9553, 604, 7975, 500, 481, 2720, 488, 46, 32964, 641, 22014, 239, 8199, 673, 255, 544, 481, 3720, 260, 1751, 9141, 556, 54, 24210, 5767, 488, 6828, 9020, 239], [481, 5063, 2253, 498, 19795, 8, 9388, 5767, 500, 1761, 3569, 980, 9331, 485, 281, 240, 44, 19755, 861, 39, 10353, 783, 5767, 641, 7498, 1873, 239, 2578, 240, 481, 1767, 14164, 1978, 485, 26836, 861, 867, 783, 9020, 641, 7498, 1873, 239, 481, 2253, 498, 4613, 5767, 500, 1761, 3569, 4276, 491, 280, 240, 42, 38794, 240, 1000, 277, 240, 48, 32964, 588, 2544, 260, 11252, 9553, 604, 7975, 500, 481, 5670, 9416, 620, 1311, 239]]\n"
          ],
          "name": "stdout"
        }
      ]
    },
    {
      "cell_type": "code",
      "metadata": {
        "id": "G2O5vmmh_pJP"
      },
      "source": [
        "input_ids = pad_sequences(input_ids, maxlen=MAX_LEN-1, dtype=\"long\", truncating=\"post\", padding=\"post\")"
      ],
      "execution_count": null,
      "outputs": []
    },
    {
      "cell_type": "code",
      "metadata": {
        "id": "r3Di72ho_rCL"
      },
      "source": [
        "input_ids = [np.append(x, gpttokenizer.convert_tokens_to_ids('[CLS]'))  for x in input_ids]"
      ],
      "execution_count": null,
      "outputs": []
    },
    {
      "cell_type": "code",
      "metadata": {
        "id": "e4NW82wT_vP9"
      },
      "source": [
        "train_inputs, validation_inputs, train_labels, validation_labels = train_test_split(input_ids, labels, \r\n",
        "                                                            random_state=2018, test_size=0.05)"
      ],
      "execution_count": null,
      "outputs": []
    },
    {
      "cell_type": "code",
      "metadata": {
        "id": "VB4Y74QC_zHl"
      },
      "source": [
        "# Convert all data into torch tensors bec it is the the required type for the pytorch model\r\n",
        "\r\n",
        "train_inputs = torch.tensor(train_inputs)\r\n",
        "validation_inputs = torch.tensor(validation_inputs)\r\n",
        "train_labels = torch.tensor(train_labels)\r\n",
        "validation_labels = torch.tensor(validation_labels)"
      ],
      "execution_count": null,
      "outputs": []
    },
    {
      "cell_type": "code",
      "metadata": {
        "id": "mZnf1LRR_1Xt",
        "colab": {
          "base_uri": "https://localhost:8080/"
        },
        "outputId": "15a1ad9f-651d-4b18-a6c5-e53ba821bb13"
      },
      "source": [
        "print(train_inputs.shape)"
      ],
      "execution_count": null,
      "outputs": [
        {
          "output_type": "stream",
          "text": [
            "torch.Size([3868, 128])\n"
          ],
          "name": "stdout"
        }
      ]
    },
    {
      "cell_type": "code",
      "metadata": {
        "id": "w2GKXcpU_2_z",
        "colab": {
          "base_uri": "https://localhost:8080/"
        },
        "outputId": "5cb4130c-c698-4666-9ae2-d3d7887ac08e"
      },
      "source": [
        "print(train_inputs[0])"
      ],
      "execution_count": null,
      "outputs": [
        {
          "output_type": "stream",
          "text": [
            "tensor([  481,  5063,  2253,   498, 19795,     8,  9388,  5767,   500, 11203,\n",
            "          256,   252,  3720,   260,  1751,  2720, 29901,  3867,  3341,  1455,\n",
            "           44,  9509,   557, 34534,   725,   989,  9587,  6353,   239,   481,\n",
            "         2561, 17156, 18905,   989,   763,   604,   694, 22014,   488, 11252,\n",
            "         9020,   239,   498,   481,   783,  5767,  7498,  1873,   240, 23339,\n",
            "          641, 11233,   500, 26218, 27563,   239,  8676,   240,   588,  2544,\n",
            "          260, 11252,  5767,   500,   632, 13047,   813, 13723,   488,  5000,\n",
            "        11272,  1978,   485, 18688,   291,   488, 27277,   287, 36006,  1873,\n",
            "          239,     0,     0,     0,     0,     0,     0,     0,     0,     0,\n",
            "            0,     0,     0,     0,     0,     0,     0,     0,     0,     0,\n",
            "            0,     0,     0,     0,     0,     0,     0,     0,     0,     0,\n",
            "            0,     0,     0,     0,     0,     0,     0,     0,     0,     0,\n",
            "            0,     0,     0,     0,     0,     0,     0, 40478])\n"
          ],
          "name": "stdout"
        }
      ]
    },
    {
      "cell_type": "code",
      "metadata": {
        "id": "i7flzXD4_5be"
      },
      "source": [
        "batch_size = 16\r\n",
        "\r\n",
        "# Training\r\n",
        "train_data = TensorDataset(train_inputs, train_labels)\r\n",
        "train_sampler = RandomSampler(train_data)\r\n",
        "train_dataloader = DataLoader(train_data, sampler=train_sampler, batch_size=batch_size)\r\n",
        "\r\n",
        "# Validation\r\n",
        "validation_data = TensorDataset(validation_inputs, validation_labels)\r\n",
        "validation_sampler = SequentialSampler(validation_data)\r\n",
        "validation_dataloader = DataLoader(validation_data, sampler=validation_sampler, batch_size=batch_size)"
      ],
      "execution_count": null,
      "outputs": []
    },
    {
      "cell_type": "code",
      "metadata": {
        "id": "McXGDBW6_92B"
      },
      "source": [
        "class GPTWithClfHead(nn.Module):\r\n",
        "    def __init__(self, config, adapt_args, gptmodel):\r\n",
        "        super().__init__()\r\n",
        "        self.transformer = gptmodel\r\n",
        "        self.num_labels = adapt_args.num_classes\r\n",
        "        self.classifier = nn.Linear(config['n_embd'], adapt_args.num_classes)\r\n",
        "\r\n",
        "    \r\n",
        "    def forward(self, input_ids, mc_token_ids=None, labels=None, token_type_ids=None,\r\n",
        "                position_ids=None, past=None, head_mask=None):\r\n",
        "        transformer_outputs = self.transformer(input_ids, position_ids=position_ids, token_type_ids=token_type_ids\r\n",
        "                                               , head_mask=head_mask)\r\n",
        "        hidden_states = transformer_outputs[0]\r\n",
        "        \r\n",
        "\r\n",
        "        # last token of the sequence is classification token\r\n",
        "        token_ids = torch.full_like(hidden_states[..., :1, :], hidden_states.shape[-2]-1, dtype=torch.long)\r\n",
        "        output = hidden_states.gather(-2, token_ids).squeeze(-2) # shape (bsz, n_embd)\r\n",
        "\r\n",
        "        clf_logits = self.classifier(output)\r\n",
        "        outputs = (clf_logits,) + transformer_outputs[1:]\r\n",
        "        if labels is not None:\r\n",
        "          loss_fct = CrossEntropyLoss()\r\n",
        "          loss = loss_fct(clf_logits.view(-1, self.num_labels), labels.view(-1))\r\n",
        "          outputs = (loss,) + outputs\r\n",
        "\r\n",
        "        return outputs  # (loss), logits, (hidden_states), (attentions)"
      ],
      "execution_count": null,
      "outputs": []
    },
    {
      "cell_type": "code",
      "metadata": {
        "id": "uSVEWvQ2ACAA"
      },
      "source": [
        "from collections import namedtuple\r\n",
        "AdaptationConfig = namedtuple('AdaptationConfig',\r\n",
        "  field_names=\"num_classes, dropout, initializer_range, batch_size, lr, max_norm, n_epochs,\"\r\n",
        "              \"n_warmup, valid_set_prop, gradient_accumulation_steps, device,\"\r\n",
        "              \"log_dir\")\r\n",
        "adapt_args = AdaptationConfig(\r\n",
        "               2          , 0.1    , 0.02             , 16        , 6.5e-5, 1.0   , 4,\r\n",
        "               10      , 0.1           , 1, device,\r\n",
        "               \"./\" )"
      ],
      "execution_count": null,
      "outputs": []
    },
    {
      "cell_type": "code",
      "metadata": {
        "id": "LfcBsHRFAD8M"
      },
      "source": [
        "gptconfig = cached_path(\"https://s3.amazonaws.com/models.huggingface.co/bert/openai-gpt-config.json\")"
      ],
      "execution_count": null,
      "outputs": []
    },
    {
      "cell_type": "code",
      "metadata": {
        "id": "h-7wXN3CAFm2",
        "colab": {
          "base_uri": "https://localhost:8080/"
        },
        "outputId": "76035d6c-1103-4e4f-e7f8-762a295cdd90"
      },
      "source": [
        "import json\r\n",
        "with open(gptconfig, \"r\") as read_file:\r\n",
        "    gptconfig = json.load(read_file)\r\n",
        "print (gptconfig)"
      ],
      "execution_count": null,
      "outputs": [
        {
          "output_type": "stream",
          "text": [
            "{'afn': 'gelu', 'architectures': ['OpenAIGPTLMHeadModel'], 'attn_pdrop': 0.1, 'embd_pdrop': 0.1, 'initializer_range': 0.02, 'layer_norm_epsilon': 1e-05, 'model_type': 'openai-gpt', 'n_ctx': 512, 'n_embd': 768, 'n_head': 12, 'n_layer': 12, 'n_positions': 512, 'n_special': 0, 'predict_special_tokens': True, 'resid_pdrop': 0.1, 'summary_activation': None, 'summary_first_dropout': 0.1, 'summary_proj_to_labels': True, 'summary_type': 'cls_index', 'summary_use_proj': True, 'task_specific_params': {'text-generation': {'do_sample': True, 'max_length': 50}}, 'vocab_size': 40478}\n"
          ],
          "name": "stdout"
        }
      ]
    },
    {
      "cell_type": "code",
      "metadata": {
        "id": "UihnHqoAAHWQ"
      },
      "source": [
        "gptmodel = OpenAIGPTModel.from_pretrained('openai-gpt')"
      ],
      "execution_count": null,
      "outputs": []
    },
    {
      "cell_type": "code",
      "metadata": {
        "id": "UuQ5gjMdAH3X",
        "colab": {
          "base_uri": "https://localhost:8080/"
        },
        "outputId": "e35716cd-7720-4537-9710-32c078cee2c8"
      },
      "source": [
        "gptmodel.resize_token_embeddings(len(gpttokenizer))"
      ],
      "execution_count": null,
      "outputs": [
        {
          "output_type": "execute_result",
          "data": {
            "text/plain": [
              "Embedding(40479, 768)"
            ]
          },
          "metadata": {
            "tags": []
          },
          "execution_count": 41
        }
      ]
    },
    {
      "cell_type": "code",
      "metadata": {
        "id": "1ej0yeoTAJ21"
      },
      "source": [
        "model = GPTWithClfHead(gptconfig, adapt_args, gptmodel)\r\n",
        "#model.cuda()"
      ],
      "execution_count": null,
      "outputs": []
    },
    {
      "cell_type": "code",
      "metadata": {
        "id": "KRvm6kovALs6",
        "colab": {
          "base_uri": "https://localhost:8080/"
        },
        "outputId": "8a7e130b-6849-45ff-a11e-673ac3b8f1d9"
      },
      "source": [
        "import os\r\n",
        "from torch.utils.data import DataLoader\r\n",
        "from ignite.engine import Engine, Events\r\n",
        "from ignite.metrics import RunningAverage, Accuracy\r\n",
        "from ignite.handlers import ModelCheckpoint\r\n",
        "from ignite.contrib.handlers import CosineAnnealingScheduler, PiecewiseLinear, create_lr_scheduler_with_warmup, ProgressBar\r\n",
        "optimizer = torch.optim.Adam(model.parameters(), lr=adapt_args.lr)\r\n",
        "\r\n",
        "train_loss_set = []\r\n",
        "\r\n",
        "# Training function and trainer\r\n",
        "def update(engine, batch):\r\n",
        "    model.train()\r\n",
        "    b_input_ids, labels = (t.to(adapt_args.device) for t in batch)\r\n",
        "    outputs = model(input_ids = b_input_ids, labels=labels)\r\n",
        "    loss = outputs[0]\r\n",
        "    \r\n",
        "    loss = loss / adapt_args.gradient_accumulation_steps\r\n",
        "    train_loss_set.append(loss.item())\r\n",
        "    loss.backward()\r\n",
        "    torch.nn.utils.clip_grad_norm_(model.parameters(), adapt_args.max_norm)\r\n",
        "    if engine.state.iteration % adapt_args.gradient_accumulation_steps == 0:\r\n",
        "        optimizer.step()\r\n",
        "        optimizer.zero_grad()\r\n",
        "    return loss.item()\r\n",
        "trainer = Engine(update)\r\n",
        "\r\n",
        "# Evaluation function and evaluator (evaluator output is the input of the metrics)\r\n",
        "def inference(engine, batch):\r\n",
        "    model.eval()\r\n",
        "    with torch.no_grad():\r\n",
        "      b_input_ids, labels = (t.to(adapt_args.device) for t in batch)\r\n",
        "      outputs = model(input_ids = b_input_ids)\r\n",
        "      logits = outputs[0]\r\n",
        "    return logits, labels\r\n",
        "evaluator = Engine(inference)\r\n",
        "\r\n",
        "# Attach metric to evaluator & evaluation to trainer: evaluate on valid set after each epoch\r\n",
        "Accuracy().attach(evaluator, \"accuracy\")\r\n",
        "@trainer.on(Events.EPOCH_COMPLETED)\r\n",
        "def log_validation_results(engine):\r\n",
        "    evaluator.run(validation_dataloader)\r\n",
        "    print(f\"Validation Epoch: {engine.state.epoch} accuracy: {100*(evaluator.state.metrics['accuracy'])}\")\r\n",
        "     \r\n",
        "\r\n",
        "# Learning rate schedule: linearly warm-up to lr and then to zero\r\n",
        "scheduler = PiecewiseLinear(optimizer, 'lr', [(0, 0.0), (adapt_args.n_warmup, adapt_args.lr),\r\n",
        "                                              (len(train_dataloader)*adapt_args.n_epochs, 0.0)])\r\n",
        "trainer.add_event_handler(Events.ITERATION_STARTED, scheduler)\r\n",
        "\r\n",
        "# Add progressbar with loss\r\n",
        "RunningAverage(output_transform=lambda x: x).attach(trainer, \"loss\")\r\n",
        "ProgressBar(persist=True).attach(trainer, metric_names=['loss'])\r\n",
        "\r\n",
        "# @trainer.on(Events.ITERATION_COMPLETED)\r\n",
        "@trainer.on(Events.EPOCH_COMPLETED)\r\n",
        "def log_running_avg_metrics(engine):    \r\n",
        "    print(f\" Epoch: {engine.state.epoch} training loss: {engine.state.metrics['loss']}\")\r\n",
        "    \r\n",
        "\r\n",
        "# Save checkpoints and finetuning config\r\n",
        "checkpoint_handler = ModelCheckpoint(adapt_args.log_dir, 'finetuning_checkpoint', save_interval=1, require_empty=False)\r\n",
        "trainer.add_event_handler(Events.EPOCH_COMPLETED, checkpoint_handler, {'mymodel': model})"
      ],
      "execution_count": null,
      "outputs": [
        {
          "output_type": "stream",
          "text": [
            "/usr/local/lib/python3.6/dist-packages/ignite/handlers/checkpoint.py:708: UserWarning: Argument save_interval is deprecated and should be None. This argument will be removed in 0.5.0.Please, use events filtering instead, e.g. Events.ITERATION_STARTED(every=1000)\n",
            "  warnings.warn(msg)\n"
          ],
          "name": "stderr"
        },
        {
          "output_type": "execute_result",
          "data": {
            "text/plain": [
              "<ignite.engine.events.RemovableEventHandle at 0x7fec9a0a5ba8>"
            ]
          },
          "metadata": {
            "tags": []
          },
          "execution_count": 44
        }
      ]
    },
    {
      "cell_type": "code",
      "metadata": {
        "id": "gSmrgLp1AUN_",
        "colab": {
          "base_uri": "https://localhost:8080/",
          "height": 531,
          "referenced_widgets": [
            "280625eb51d94f08a1b55464889b4371",
            "c2548ac689fb400a9b84aeec6430a4f6",
            "057e153cd81b47d790d7196c447d5852",
            "8cd36e4b659e44df86db8691895571e9",
            "a02a2e6f23324ab28ee196752714113f",
            "b44a9afe1a634ba48bdeac0ce9ddf507",
            "ec66aaee43ba4756a1cd7479e9c6cdaa",
            "b696cb9e248d43da865af21e1eab64df",
            "8577fadbf5ee48bf8ec821617fb25d65",
            "9af3c89197cf45a0a5288f7006a8f626",
            "fe0d8f829a8c42048a63cc6fb992b7e3",
            "22acb8abfd574f718c37909e6114df4d",
            "580a44bfb94d49e9b2c688a30ba27fc9",
            "97cede62fb4e4fb987ad6af9aa29f828",
            "71baadd457b84ed0a6841f6009b36cad",
            "d4d9bc223f214eb7adebe694ec52bf09",
            "06925fb716694c618448c03cd6b0f244",
            "70f1d4e418494ab2b751bea1a4227db1",
            "a8dde6f2f6554b5394ac59b8a865f621",
            "5427e34fc43049e0981575ed61682e92",
            "840100efc8284513a13e005a242d5365",
            "bbe96163383642ef8bb9514c04228df9",
            "badde2dae1e743d58c928eb206712ce3",
            "dc81c24036f24bec92d2dfb9b21bf3e3",
            "172e10895e374bf093db551039eab386",
            "80b64ab8e5984773af88ef38ab235d06",
            "d185c5ce79864c88b44cb98643431c87",
            "48a4ae029673403aafead799d8ff932d",
            "a7e93fcdef4d48e3838c17570abf3ddf",
            "7f97c2c8057d4a2ca8dcff32e083ae38",
            "5191bc81e91149318adfb364c74d0981",
            "ac8d77eaad9c435d867d630db4c26676"
          ]
        },
        "outputId": "dfe8efca-5c38-42fb-fd86-05ab417f50bc"
      },
      "source": [
        "trainer.run(train_dataloader, max_epochs=adapt_args.n_epochs)"
      ],
      "execution_count": null,
      "outputs": [
        {
          "output_type": "display_data",
          "data": {
            "application/vnd.jupyter.widget-view+json": {
              "model_id": "280625eb51d94f08a1b55464889b4371",
              "version_major": 2,
              "version_minor": 0
            },
            "text/plain": [
              "HBox(children=(FloatProgress(value=0.0, max=242.0), HTML(value='')))"
            ]
          },
          "metadata": {
            "tags": []
          }
        },
        {
          "output_type": "stream",
          "text": [
            "Validation Epoch: 1 accuracy: 87.25490196078431\n",
            "\n",
            " Epoch: 1 training loss: 0.41782893266026316\n"
          ],
          "name": "stdout"
        },
        {
          "output_type": "display_data",
          "data": {
            "application/vnd.jupyter.widget-view+json": {
              "model_id": "8577fadbf5ee48bf8ec821617fb25d65",
              "version_major": 2,
              "version_minor": 0
            },
            "text/plain": [
              "HBox(children=(FloatProgress(value=0.0, max=242.0), HTML(value='')))"
            ]
          },
          "metadata": {
            "tags": []
          }
        },
        {
          "output_type": "stream",
          "text": [
            "Validation Epoch: 2 accuracy: 83.82352941176471\n",
            "\n",
            " Epoch: 2 training loss: 0.24038942854549308\n"
          ],
          "name": "stdout"
        },
        {
          "output_type": "display_data",
          "data": {
            "application/vnd.jupyter.widget-view+json": {
              "model_id": "06925fb716694c618448c03cd6b0f244",
              "version_major": 2,
              "version_minor": 0
            },
            "text/plain": [
              "HBox(children=(FloatProgress(value=0.0, max=242.0), HTML(value='')))"
            ]
          },
          "metadata": {
            "tags": []
          }
        },
        {
          "output_type": "stream",
          "text": [
            "Validation Epoch: 3 accuracy: 85.7843137254902\n",
            "\n",
            " Epoch: 3 training loss: 0.11850326717922115\n"
          ],
          "name": "stdout"
        },
        {
          "output_type": "display_data",
          "data": {
            "application/vnd.jupyter.widget-view+json": {
              "model_id": "172e10895e374bf093db551039eab386",
              "version_minor": 0,
              "version_major": 2
            },
            "text/plain": [
              "HBox(children=(FloatProgress(value=0.0, max=242.0), HTML(value='')))"
            ]
          },
          "metadata": {
            "tags": []
          }
        },
        {
          "output_type": "stream",
          "text": [
            "Validation Epoch: 4 accuracy: 85.29411764705883\n",
            "\n",
            " Epoch: 4 training loss: 0.039134350135139266\n"
          ],
          "name": "stdout"
        },
        {
          "output_type": "execute_result",
          "data": {
            "text/plain": [
              "State:\n",
              "\titeration: 968\n",
              "\tepoch: 4\n",
              "\tepoch_length: 242\n",
              "\tmax_epochs: 4\n",
              "\toutput: 0.008870438672602177\n",
              "\tbatch: <class 'list'>\n",
              "\tmetrics: <class 'dict'>\n",
              "\tdataloader: torch.utils.data.dataloader.DataLoader\n",
              "\tseed: <class 'NoneType'>\n",
              "\ttimes: <class 'dict'>"
            ]
          },
          "metadata": {
            "tags": []
          },
          "execution_count": 45
        }
      ]
    }
  ]
}